{
 "cells": [
  {
   "cell_type": "markdown",
   "metadata": {
    "ExecuteTime": {
     "end_time": "2020-01-20T17:28:37.837404Z",
     "start_time": "2020-01-20T17:28:37.828158Z"
    }
   },
   "source": [
    "![IronHack Logo](https://s3-eu-west-1.amazonaws.com/ih-materials/uploads/upload_d5c5793015fec3be28a63c4fa3dd4d55.png)\n",
    "\n",
    "# Lab | Advanced MySQL\n",
    "\n",
    "## Introduction\n",
    "\n",
    "In this lab you will practice SQL Subqueries and Action Queries. We will again use the publications database.\n",
    "\n",
    "Create a `solutions.ipynb` file in the `your-code` directory to record your solutions to all challenges."
   ]
  },
  {
   "cell_type": "code",
   "execution_count": 1,
   "metadata": {
    "ExecuteTime": {
     "end_time": "2020-01-25T16:55:15.671283Z",
     "start_time": "2020-01-25T16:55:14.099617Z"
    },
    "code_folding": []
   },
   "outputs": [],
   "source": [
    "#Import os\n",
    "import os\n",
    "os.environ[\"GOOGLE_APPLICATION_CREDENTIALS\"]=\"./ironhack_service_account_big_query.json\"\n",
    "from google.cloud import bigquery\n",
    "client = bigquery.Client()"
   ]
  },
  {
   "cell_type": "markdown",
   "metadata": {
    "ExecuteTime": {
     "end_time": "2020-01-20T17:29:25.195368Z",
     "start_time": "2020-01-20T17:29:25.179606Z"
    }
   },
   "source": [
    "## Challenge 1 - Most Profiting Authors\n",
    "\n",
    "In this challenge let's have a close look at the bonus challenge of the previous *SQL SELECT* lab -- **who are the top 3 most profiting authors**? Even if you have solved or think you have solved that problem in the previous lab, please still complete this challenge because the step-by-step guidances are helpful to train your problem-solving thinking.\n",
    "\n",
    "In order to solve this problem, it is important for you to keep the following points in mind:\n",
    "\n",
    "* In table `sales`, a title can appear several times. The royalties need to be calculated for each sale.\n",
    "\n",
    "* Despite a title can have multiple `sales` records, the advance must be calculated only once for each title.\n",
    "\n",
    "* In your eventual solution, you need to sum up the following profits for each individual author:\n",
    "    * All advances which is calculated exactly once for each title.\n",
    "    * All royalties in each sale.\n",
    "\n",
    "Therefore, you will not be able to achieve the goal with a single SELECT query. Instead, you will need to follow several steps in order to achieve the eventual solution. Below is an overview of the steps:\n",
    "\n",
    "1. Calculate the royalty of each sale for each author.\n",
    "\n",
    "1. Using the output from Step 1 as a sub-table, aggregate the total royalties for each title for each author.\n",
    "\n",
    "1. Using the output from Step 2 as a sub-table, calculate the total profits of each author by aggregating the advances and total royalties of each title.\n",
    "\n",
    "Below we'll guide you through each step. In your `solutions.ipynb`, please include the SELECT queries of each step so that your TA can review your problem-solving process.\n"
   ]
  },
  {
   "cell_type": "markdown",
   "metadata": {},
   "source": [
    "### Step 1: Calculate the royalties of each sales for each author\n",
    "\n",
    "Write a SELECT query to obtain the following output:\n",
    "\n",
    "* Title ID\n",
    "* Author ID\n",
    "* Royalty of each sale for each author\n",
    "    * The formula is:\n",
    "        ```\n",
    "        sales_royalty = titles.price * sales.qty * titles.royalty / 100 * titleauthor.royaltyper / 100\n",
    "        ```\n",
    "    * Note that `titles.royalty` and `titleauthor.royaltyper` are divided by 100 respectively because they are percentage numbers instead of floats.\n",
    "\n",
    "In the output of this step, each title may appear more than once for each author. This is because a title can have more than one sales."
   ]
  },
  {
   "cell_type": "code",
   "execution_count": 17,
   "metadata": {
    "ExecuteTime": {
     "end_time": "2020-01-25T17:01:50.658680Z",
     "start_time": "2020-01-25T17:01:48.867047Z"
    }
   },
   "outputs": [
    {
     "data": {
      "text/html": [
       "<div>\n",
       "<style scoped>\n",
       "    .dataframe tbody tr th:only-of-type {\n",
       "        vertical-align: middle;\n",
       "    }\n",
       "\n",
       "    .dataframe tbody tr th {\n",
       "        vertical-align: top;\n",
       "    }\n",
       "\n",
       "    .dataframe thead th {\n",
       "        text-align: right;\n",
       "    }\n",
       "</style>\n",
       "<table border=\"1\" class=\"dataframe\">\n",
       "  <thead>\n",
       "    <tr style=\"text-align: right;\">\n",
       "      <th></th>\n",
       "      <th>Title_ID</th>\n",
       "      <th>price</th>\n",
       "      <th>advance</th>\n",
       "      <th>royalty</th>\n",
       "      <th>qty</th>\n",
       "      <th>Author_ID</th>\n",
       "      <th>royaltyper</th>\n",
       "      <th>sales_royalty</th>\n",
       "    </tr>\n",
       "  </thead>\n",
       "  <tbody>\n",
       "    <tr>\n",
       "      <th>0</th>\n",
       "      <td>BU1032</td>\n",
       "      <td>19.99</td>\n",
       "      <td>5000.0</td>\n",
       "      <td>10</td>\n",
       "      <td>5</td>\n",
       "      <td>409-56-7008</td>\n",
       "      <td>60</td>\n",
       "      <td>5.997</td>\n",
       "    </tr>\n",
       "    <tr>\n",
       "      <th>1</th>\n",
       "      <td>BU1032</td>\n",
       "      <td>19.99</td>\n",
       "      <td>5000.0</td>\n",
       "      <td>10</td>\n",
       "      <td>10</td>\n",
       "      <td>409-56-7008</td>\n",
       "      <td>60</td>\n",
       "      <td>11.994</td>\n",
       "    </tr>\n",
       "    <tr>\n",
       "      <th>2</th>\n",
       "      <td>BU1032</td>\n",
       "      <td>19.99</td>\n",
       "      <td>5000.0</td>\n",
       "      <td>10</td>\n",
       "      <td>5</td>\n",
       "      <td>213-46-8915</td>\n",
       "      <td>40</td>\n",
       "      <td>3.998</td>\n",
       "    </tr>\n",
       "    <tr>\n",
       "      <th>3</th>\n",
       "      <td>BU1032</td>\n",
       "      <td>19.99</td>\n",
       "      <td>5000.0</td>\n",
       "      <td>10</td>\n",
       "      <td>10</td>\n",
       "      <td>213-46-8915</td>\n",
       "      <td>40</td>\n",
       "      <td>7.996</td>\n",
       "    </tr>\n",
       "    <tr>\n",
       "      <th>4</th>\n",
       "      <td>BU1111</td>\n",
       "      <td>11.95</td>\n",
       "      <td>5000.0</td>\n",
       "      <td>10</td>\n",
       "      <td>25</td>\n",
       "      <td>724-80-9391</td>\n",
       "      <td>60</td>\n",
       "      <td>17.925</td>\n",
       "    </tr>\n",
       "  </tbody>\n",
       "</table>\n",
       "</div>"
      ],
      "text/plain": [
       "  Title_ID  price  advance royalty qty    Author_ID royaltyper  sales_royalty\n",
       "0   BU1032  19.99   5000.0      10   5  409-56-7008         60          5.997\n",
       "1   BU1032  19.99   5000.0      10  10  409-56-7008         60         11.994\n",
       "2   BU1032  19.99   5000.0      10   5  213-46-8915         40          3.998\n",
       "3   BU1032  19.99   5000.0      10  10  213-46-8915         40          7.996\n",
       "4   BU1111  11.95   5000.0      10  25  724-80-9391         60         17.925"
      ]
     },
     "execution_count": 17,
     "metadata": {},
     "output_type": "execute_result"
    }
   ],
   "source": [
    "royalties_per_sale = '''\n",
    "    SELECT\n",
    "        tau.title_id AS Title_ID #from TAU\n",
    "        ,price\n",
    "        ,advance\n",
    "        ,royalty\n",
    "        ,qty\n",
    "        ,au_id AS Author_ID #from TAU\n",
    "        ,royaltyper\n",
    "        ,(titles.price * sales.qty * titles.royalty / 100 * tau.royaltyper / 100) AS sales_royalty\n",
    "    FROM\n",
    "        `ironhack-data-analytics-265219.publications.titleauthor` as tau\n",
    "    JOIN\n",
    "        publications.titles AS titles\n",
    "    ON\n",
    "        tau.title_id = titles.title_id \n",
    "    JOIN \n",
    "        publications.sales AS sales\n",
    "    ON\n",
    "        tau.title_id = sales.title_id\n",
    "    GROUP BY\n",
    "        1,2,3,4,5,6,7\n",
    "    ORDER BY\n",
    "        1\n",
    "    LIMIT 5;\n",
    "    '''\n",
    "query_job = client.query(query = royalties_per_sale)\n",
    "query_job.to_dataframe()"
   ]
  },
  {
   "cell_type": "markdown",
   "metadata": {},
   "source": [
    "### Step 2: Aggregate the total royalties for each title for each author\n",
    "\n",
    "Using the output from Step 1, write a query to obtain the following output:\n",
    "\n",
    "* Title ID\n",
    "* Author ID\n",
    "* Aggregated royalties of each title for each author\n",
    "    * Hint: use the *SUM* subquery and group by both `au_id` and `title_id`\n",
    "\n",
    "In the output of this step, each title should appear only once for each author."
   ]
  },
  {
   "cell_type": "code",
   "execution_count": 26,
   "metadata": {
    "ExecuteTime": {
     "end_time": "2020-01-25T17:09:09.759375Z",
     "start_time": "2020-01-25T17:09:06.568348Z"
    }
   },
   "outputs": [
    {
     "data": {
      "text/html": [
       "<div>\n",
       "<style scoped>\n",
       "    .dataframe tbody tr th:only-of-type {\n",
       "        vertical-align: middle;\n",
       "    }\n",
       "\n",
       "    .dataframe tbody tr th {\n",
       "        vertical-align: top;\n",
       "    }\n",
       "\n",
       "    .dataframe thead th {\n",
       "        text-align: right;\n",
       "    }\n",
       "</style>\n",
       "<table border=\"1\" class=\"dataframe\">\n",
       "  <thead>\n",
       "    <tr style=\"text-align: right;\">\n",
       "      <th></th>\n",
       "      <th>title_id</th>\n",
       "      <th>author_id</th>\n",
       "      <th>advance</th>\n",
       "      <th>royalties_per_title</th>\n",
       "    </tr>\n",
       "  </thead>\n",
       "  <tbody>\n",
       "    <tr>\n",
       "      <th>0</th>\n",
       "      <td>BU1032</td>\n",
       "      <td>213-46-8915</td>\n",
       "      <td>5000.0</td>\n",
       "      <td>11.994</td>\n",
       "    </tr>\n",
       "    <tr>\n",
       "      <th>1</th>\n",
       "      <td>BU1032</td>\n",
       "      <td>409-56-7008</td>\n",
       "      <td>5000.0</td>\n",
       "      <td>17.991</td>\n",
       "    </tr>\n",
       "    <tr>\n",
       "      <th>2</th>\n",
       "      <td>BU1111</td>\n",
       "      <td>267-41-2394</td>\n",
       "      <td>5000.0</td>\n",
       "      <td>11.950</td>\n",
       "    </tr>\n",
       "    <tr>\n",
       "      <th>3</th>\n",
       "      <td>BU1111</td>\n",
       "      <td>724-80-9391</td>\n",
       "      <td>5000.0</td>\n",
       "      <td>17.925</td>\n",
       "    </tr>\n",
       "    <tr>\n",
       "      <th>4</th>\n",
       "      <td>BU2075</td>\n",
       "      <td>213-46-8915</td>\n",
       "      <td>10125.0</td>\n",
       "      <td>25.116</td>\n",
       "    </tr>\n",
       "  </tbody>\n",
       "</table>\n",
       "</div>"
      ],
      "text/plain": [
       "  title_id    author_id  advance  royalties_per_title\n",
       "0   BU1032  213-46-8915   5000.0               11.994\n",
       "1   BU1032  409-56-7008   5000.0               17.991\n",
       "2   BU1111  267-41-2394   5000.0               11.950\n",
       "3   BU1111  724-80-9391   5000.0               17.925\n",
       "4   BU2075  213-46-8915  10125.0               25.116"
      ]
     },
     "execution_count": 26,
     "metadata": {},
     "output_type": "execute_result"
    }
   ],
   "source": [
    "total_royalties = '''\n",
    "    SELECT\n",
    "        t1.title_id\n",
    "        ,author_id\n",
    "        ,t1.advance\n",
    "        ,SUM(sales_royalty) AS royalties_per_title\n",
    "    FROM\n",
    "        (SELECT\n",
    "            tau.title_id AS Title_ID #from TAU\n",
    "            ,price\n",
    "            ,advance\n",
    "            ,royalty\n",
    "            ,qty\n",
    "            ,au_id AS Author_ID #from TAU\n",
    "            ,royaltyper\n",
    "            ,(titles.price * sales.qty * titles.royalty / 100 * tau.royaltyper / 100) AS sales_royalty\n",
    "        FROM\n",
    "            `ironhack-data-analytics-265219.publications.titleauthor` as tau\n",
    "        JOIN\n",
    "            publications.titles AS titles\n",
    "        ON\n",
    "            tau.title_id = titles.title_id \n",
    "        JOIN \n",
    "            publications.sales AS sales\n",
    "        ON\n",
    "            tau.title_id = sales.title_id\n",
    "        ) AS t1\n",
    "    GROUP BY\n",
    "        1, 2, 3\n",
    "    ORDER BY\n",
    "        1\n",
    "    LIMIT 5   \n",
    "\n",
    "'''\n",
    "\n",
    "\n",
    "query_job = client.query(query = total_royalties)\n",
    "query_job.to_dataframe()"
   ]
  },
  {
   "cell_type": "markdown",
   "metadata": {
    "ExecuteTime": {
     "end_time": "2020-01-20T17:30:06.160699Z",
     "start_time": "2020-01-20T17:30:06.152890Z"
    }
   },
   "source": [
    "### Step 3: Calculate the total profits of each author\n",
    "\n",
    "Now that each title has exactly one row for each author where the advance and royalties are available, we are ready to obtain the eventual output. Using the output from Step 2, write a query to obtain the following output:\n",
    "\n",
    "* Author ID\n",
    "* Profits of each author by aggregating the advance and total royalties of each title\n",
    "\n",
    "Sort the output based on a total profits from high to low, and limit the number of rows to 3."
   ]
  },
  {
   "cell_type": "code",
   "execution_count": 60,
   "metadata": {
    "ExecuteTime": {
     "end_time": "2020-01-25T17:53:53.889701Z",
     "start_time": "2020-01-25T17:53:51.145708Z"
    }
   },
   "outputs": [
    {
     "data": {
      "text/html": [
       "<div>\n",
       "<style scoped>\n",
       "    .dataframe tbody tr th:only-of-type {\n",
       "        vertical-align: middle;\n",
       "    }\n",
       "\n",
       "    .dataframe tbody tr th {\n",
       "        vertical-align: top;\n",
       "    }\n",
       "\n",
       "    .dataframe thead th {\n",
       "        text-align: right;\n",
       "    }\n",
       "</style>\n",
       "<table border=\"1\" class=\"dataframe\">\n",
       "  <thead>\n",
       "    <tr style=\"text-align: right;\">\n",
       "      <th></th>\n",
       "      <th>author_id</th>\n",
       "      <th>Profits_per_title</th>\n",
       "    </tr>\n",
       "  </thead>\n",
       "  <tbody>\n",
       "    <tr>\n",
       "      <th>0</th>\n",
       "      <td>722-51-5454</td>\n",
       "      <td>22521.528</td>\n",
       "    </tr>\n",
       "    <tr>\n",
       "      <th>1</th>\n",
       "      <td>213-46-8915</td>\n",
       "      <td>14162.110</td>\n",
       "    </tr>\n",
       "    <tr>\n",
       "      <th>2</th>\n",
       "      <td>899-46-2035</td>\n",
       "      <td>12128.132</td>\n",
       "    </tr>\n",
       "  </tbody>\n",
       "</table>\n",
       "</div>"
      ],
      "text/plain": [
       "     author_id  Profits_per_title\n",
       "0  722-51-5454          22521.528\n",
       "1  213-46-8915          14162.110\n",
       "2  899-46-2035          12128.132"
      ]
     },
     "execution_count": 60,
     "metadata": {},
     "output_type": "execute_result"
    }
   ],
   "source": [
    "total_profits = '''\n",
    "    SELECT\n",
    "        t1.author_id\n",
    "        ,SUM(advance + sales_royalty) AS Profits_per_title\n",
    "    FROM \n",
    "        (SELECT\n",
    "                tau.title_id AS Title_ID #from TAU\n",
    "                ,price\n",
    "                ,advance * tau.royaltyper / 100 AS Advance\n",
    "                ,royalty\n",
    "                ,qty\n",
    "                ,au_id AS Author_ID #from TAU\n",
    "                ,royaltyper\n",
    "                ,(titles.price * sales.qty * titles.royalty / 100 * tau.royaltyper / 100) AS sales_royalty\n",
    "        FROM\n",
    "                `ironhack-data-analytics-265219.publications.titleauthor` as tau\n",
    "        JOIN\n",
    "                publications.titles AS titles\n",
    "        ON\n",
    "                tau.title_id = titles.title_id \n",
    "        JOIN \n",
    "                publications.sales AS sales\n",
    "        ON\n",
    "                tau.title_id = sales.title_id\n",
    "            ) AS t1\n",
    "     \n",
    "            \n",
    "    GROUP BY\n",
    "        1\n",
    "    ORDER BY\n",
    "        2 DESC\n",
    "    LIMIT 3;\n",
    "\n",
    "'''\n",
    "\n",
    "\n",
    "\n",
    "\n",
    "query_job = client.query(query = total_profits)\n",
    "query_job.to_dataframe()\n",
    "#RESULTADOS SUM(sales_royalty) son el Total y no por autor "
   ]
  },
  {
   "cell_type": "markdown",
   "metadata": {
    "ExecuteTime": {
     "end_time": "2020-01-20T17:30:17.679136Z",
     "start_time": "2020-01-20T17:30:17.670736Z"
    }
   },
   "source": [
    "## Challenge 2\n",
    "\n",
    "Elevating from your solution in Challenge 1 , create a table named `most_profiting_authors` to hold the data about the most profiting authors. The table should have 2 columns:\n",
    "\n",
    "* `au_id` - Author ID\n",
    "* `profits` - The profits of the author aggregating the advances and royalties\n",
    "\n",
    "Include your solution in `solutions.ipynb`.\n",
    "\n"
   ]
  },
  {
   "cell_type": "code",
   "execution_count": 70,
   "metadata": {
    "ExecuteTime": {
     "end_time": "2020-01-25T18:01:00.505581Z",
     "start_time": "2020-01-25T18:00:57.056586Z"
    }
   },
   "outputs": [
    {
     "data": {
      "text/html": [
       "<div>\n",
       "<style scoped>\n",
       "    .dataframe tbody tr th:only-of-type {\n",
       "        vertical-align: middle;\n",
       "    }\n",
       "\n",
       "    .dataframe tbody tr th {\n",
       "        vertical-align: top;\n",
       "    }\n",
       "\n",
       "    .dataframe thead th {\n",
       "        text-align: right;\n",
       "    }\n",
       "</style>\n",
       "<table border=\"1\" class=\"dataframe\">\n",
       "  <thead>\n",
       "    <tr style=\"text-align: right;\">\n",
       "      <th></th>\n",
       "    </tr>\n",
       "  </thead>\n",
       "  <tbody>\n",
       "  </tbody>\n",
       "</table>\n",
       "</div>"
      ],
      "text/plain": [
       "Empty DataFrame\n",
       "Columns: []\n",
       "Index: []"
      ]
     },
     "execution_count": 70,
     "metadata": {},
     "output_type": "execute_result"
    }
   ],
   "source": [
    "most_profiting_authors =  '''\n",
    "    CREATE TABLE `ironhack-data-analytics-265219.publications.most_profiting_authors_gabi`(\n",
    "    au_id STRING ,\n",
    "    profits NUMERIC\n",
    "    )\n",
    "    '''\n",
    "\n",
    "\n",
    "sql=    '''\n",
    "    INSERT INTO `ironhack-data-analytics-265219.publications.most_profiting_authors_gabi`\n",
    "    VALUES\n",
    "        ('722-51-5454', 22521.528),\n",
    "        ('213-46-8915', 14162.110),\n",
    "        ('899-46-2035', 12128.132)\n",
    "    '''\n",
    "    \n",
    "\n",
    "\n",
    "\n",
    "\n",
    "query_job = client.query(query = most_profiting_authors)\n",
    "query_job.to_dataframe()\n",
    "query_job_2 = client.query(query = sql)\n",
    "query_job_2.to_dataframe()"
   ]
  },
  {
   "cell_type": "code",
   "execution_count": null,
   "metadata": {},
   "outputs": [],
   "source": []
  }
 ],
 "metadata": {
  "kernelspec": {
   "display_name": "Python 3",
   "language": "python",
   "name": "python3"
  },
  "language_info": {
   "codemirror_mode": {
    "name": "ipython",
    "version": 3
   },
   "file_extension": ".py",
   "mimetype": "text/x-python",
   "name": "python",
   "nbconvert_exporter": "python",
   "pygments_lexer": "ipython3",
   "version": "3.7.5"
  }
 },
 "nbformat": 4,
 "nbformat_minor": 2
}
